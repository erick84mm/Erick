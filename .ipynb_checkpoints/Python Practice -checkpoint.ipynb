{
 "cells": [
  {
   "cell_type": "markdown",
   "metadata": {},
   "source": [
    "## 000. Run this commands first to make the example more enjoyable with colors"
   ]
  },
  {
   "cell_type": "code",
   "execution_count": 112,
   "metadata": {},
   "outputs": [],
   "source": [
    "class bcolors:\n",
    "    OKBLUE = '\\033[94m'\n",
    "    OKGREEN = '\\033[92m'\n",
    "    ENDC = '\\033[0m'\n",
    "    BOLD = '\\033[1m'\n",
    "    "
   ]
  },
  {
   "cell_type": "markdown",
   "metadata": {},
   "source": [
    "### 00. Reversed string\n",
    "Obtain the string that arranges letters of the string \"stressed\" in reverse order (tail to head)."
   ]
  },
  {
   "cell_type": "code",
   "execution_count": 32,
   "metadata": {},
   "outputs": [
    {
     "name": "stdout",
     "output_type": "stream",
     "text": [
      "desserts\n",
      "desserts\n",
      "desserts\n"
     ]
    },
    {
     "data": {
      "text/plain": [
       "'desserts'"
      ]
     },
     "execution_count": 32,
     "metadata": {},
     "output_type": "execute_result"
    }
   ],
   "source": [
    "st = \"stressed\"\n",
    "st_ans = \"\"\n",
    "\n",
    "\n",
    "##Converting to list and reversing\n",
    "lis = list(st)\n",
    "lis.reverse()\n",
    "printC(''.join(lis))\n",
    "\n",
    "##Converting to list and reversing inline\n",
    "lis = list(st)\n",
    "print(''.join(lis[::-1]))\n",
    "\n",
    "\n",
    "## character by character print \n",
    "for c in st[::-1]:\n",
    "    st_ans += c\n",
    "\n",
    "print(st_ans)\n",
    "\n",
    "\n",
    "## To output the array\n",
    "[x for x in reversed(st)]\n",
    "\n",
    "\n",
    "## to output the result in string form\n",
    "''.join([x for x in reversed(st)])"
   ]
  },
  {
   "cell_type": "markdown",
   "metadata": {},
   "source": [
    "### 01. \"schooled\"\n",
    "Obtain the string that concatenates the 1st, 3rd, 5th, and 7th letters in the string \"schooled\"."
   ]
  },
  {
   "cell_type": "code",
   "execution_count": 39,
   "metadata": {},
   "outputs": [
    {
     "name": "stdout",
     "output_type": "stream",
     "text": [
      "shoe\n",
      "shoe\n"
     ]
    }
   ],
   "source": [
    "## For for getting the word one by one (not good way)\n",
    "word = \"schooled\"\n",
    "new_word = \"\"\n",
    "\n",
    "for i in range(len(word)//2):\n",
    "    new_word = new_word + word[2*i]\n",
    "print(new_word)\n",
    "\n",
    "\n",
    "## For for skipping the chars that we don't want to print\n",
    "for index, char in enumerate(word): \n",
    "    if not index % 2:\n",
    "        print(char, end =\"\")\n",
    "        \n",
    "print()\n",
    "\n",
    "## enumerate makes the list in a tuple of (index, element)\n",
    "#for i, char in enumerate([\"a\",\"b\",\"c\"]):\n",
    "#    print(i, char)\n",
    "\n",
    "\n",
    "\n",
    "\n",
    "\n",
    "\n",
    "\n"
   ]
  },
  {
   "cell_type": "markdown",
   "metadata": {},
   "source": [
    "### 02. \"shoe\" + \"cold\" = \"schooled\"\n",
    "Obtain the string \"schooled\" by concatenating the letters in \"shoe\" and \"cold\" one after the other from head to tail."
   ]
  },
  {
   "cell_type": "code",
   "execution_count": 41,
   "metadata": {},
   "outputs": [
    {
     "name": "stdout",
     "output_type": "stream",
     "text": [
      "schooled\n"
     ]
    }
   ],
   "source": [
    "txt1 = \"shoe\"\n",
    "txt2 = \"cold\"\n",
    "res = \"\"\n",
    "\n",
    "for c1, c2 in zip(txt1, txt2):\n",
    "    res += (c1 + c2)\n",
    "print(res)\n",
    "\n"
   ]
  },
  {
   "cell_type": "markdown",
   "metadata": {},
   "source": [
    "### 03. Pi\n",
    "Split the sentence \"Now I need a drink, alcoholic of course, after the heavy lectures involving quantum mechanics.\" into words, and create a list whose element presents the number of alphabetical letters in the corresponding word."
   ]
  },
  {
   "cell_type": "code",
   "execution_count": 55,
   "metadata": {},
   "outputs": [
    {
     "name": "stdout",
     "output_type": "stream",
     "text": [
      "[3, 1, 4, 1, 5, 9, 2, 6, 5, 3, 5, 8, 9, 7, 9]\n"
     ]
    }
   ],
   "source": [
    "text = \"Now I need a drink, alcoholic of course, after the heavy lectures involving quantum mechanics.\"\n",
    "word_list = text.split(' ')\n",
    "result_list = [len(w.strip(\".,\")) for w in word_list]\n",
    "\n",
    "print(result_list)\n",
    "\n",
    "\n"
   ]
  },
  {
   "cell_type": "markdown",
   "metadata": {},
   "source": [
    "### 04. Atomic symbols\n",
    "Split the sentence \"Hi He Lied Because Boron Could Not Oxidize Fluorine. New Nations Might Also Sign Peace Security Clause. Arthur King Can.\" into words, and extract the first letter from the 1st, 5th, 6th, 7th, 8th, 9th, 15th, 16th, 19th words and the first two letters from the other words. Create an associative array (dictionary object or mapping object) that maps from the extracted string to the position (offset in the sentence) of the corresponding word.\n"
   ]
  },
  {
   "cell_type": "code",
   "execution_count": 74,
   "metadata": {},
   "outputs": [
    {
     "name": "stdout",
     "output_type": "stream",
     "text": [
      "{1: 'H', 2: 'He', 3: 'Li', 4: 'Be', 5: 'B', 6: 'C', 7: 'N', 8: 'Ox', 9: 'F', 10: 'Ne', 11: 'Na', 12: 'Mi', 13: 'Al', 14: 'Si', 15: 'P', 16: 'S', 17: 'Cl', 18: 'Ar', 19: 'K', 20: 'Ca'}\n"
     ]
    }
   ],
   "source": [
    "text = \"Hi He Lied Because Boron Could Not Oxidize Fluorine. New Nations Might Also Sign Peace Security Clause. Arthur King Can.\"\n",
    "word_list = text.split(' ')\n",
    "word_list = [w.strip(\".,\") for w in word_list]\n",
    "result_list = {}\n",
    "nums = [1,5,6,7,9,15,16,19]\n",
    "\n",
    "for i, w in enumerate(word_list):\n",
    "    if(i+1 in nums):\n",
    "        result_list.update({i+1 : w[0]})\n",
    "    else:\n",
    "        result_list.update({i+1 : w[0:2]})\n",
    "        \n",
    "print(result_list)\n",
    "\n",
    "\n",
    "\n"
   ]
  },
  {
   "cell_type": "markdown",
   "metadata": {},
   "source": [
    "### 05. n-gram\n",
    "Implement a function that obtains n-grams from a given sequence object (e.g., string and list). Use this function to obtain word bi-grams and letter bi-grams from the sentence \"I am an NLPer\""
   ]
  },
  {
   "cell_type": "code",
   "execution_count": 96,
   "metadata": {},
   "outputs": [
    {
     "name": "stdout",
     "output_type": "stream",
     "text": [
      "['I a', ' am', 'am ', 'm a', ' an', 'an ', 'n N', ' NL', 'NLP', 'LPe', 'Per']\n",
      "[['I', 'am', 'an'], ['am', 'an', 'NLPer']]\n"
     ]
    }
   ],
   "source": [
    "def nGrams(str, n = 2):\n",
    "    word_n_gram = []\n",
    "    for i in range(len(str)-(n-1)):\n",
    "        word_n_gram.append(str[i:i+n])\n",
    "    return word_n_gram\n",
    "\n",
    "\n",
    "print(nGrams(\"I am an NLPer\",3))\n",
    "print(nGrams([\"I\", \"am\", \"an\", \"NLPer\"],3))\n",
    "    \n",
    "\n",
    "\n",
    "\n",
    "\n",
    "\n"
   ]
  },
  {
   "cell_type": "markdown",
   "metadata": {},
   "source": [
    "### 06. Set\n",
    "Let the sets of letter bi-grams from the words \"paraparaparadise\" and \"paragraph\" $X$ and $Y$, respectively. \n",
    "Obtain the union, intersection, difference of the two sets.\n",
    "In addition, check whether the bigram \"se\" is included in the sets $X$ and $Y$\n"
   ]
  },
  {
   "cell_type": "code",
   "execution_count": 109,
   "metadata": {},
   "outputs": [
    {
     "name": "stdout",
     "output_type": "stream",
     "text": [
      "\u001b[94mX:\u001b[0m ['pa', 'ar', 'ra', 'ap', 'pa', 'ar', 'ra', 'ap', 'pa', 'ar', 'ra', 'ad', 'di', 'is', 'se']\n",
      "\u001b[94mY:\u001b[0m ['pa', 'ar', 'ra', 'ag', 'gr', 'ra', 'ap', 'ph']\n",
      "\u001b[94mUnion of X and Y:\u001b[0m {'ap', 'ra', 'is', 'ag', 'di', 'gr', 'ph', 'ad', 'pa', 'se', 'ar'}\n",
      "\u001b[94mIntersection of X and Y:\u001b[0m {'ar', 'pa', 'ap', 'ra'}\n",
      "\u001b[94mX to Y difference:\u001b[0m {'is', 'di', 'ad', 'se'}\n",
      "\u001b[94mY to X difference:\u001b[0m {'gr', 'ph', 'ag'}\n",
      "\u001b[94mIs \"se\" included in X:\u001b[0m True\n",
      "\u001b[94mIs \"se\" included in Y:\u001b[0m False\n"
     ]
    }
   ],
   "source": [
    "#Bigrams -- please run previous code in order to use nGrams function\n",
    "text1 = \"paraparaparadise\"\n",
    "text2 = \"paragraph\"\n",
    "list1 = nGrams(text1)\n",
    "list2 = nGrams(text2)\n",
    "\n",
    "print(bcolors.OKBLUE + \"X:\" + bcolors.ENDC, list1)\n",
    "print(bcolors.OKBLUE + \"Y:\" + bcolors.ENDC, list2)\n",
    "\n",
    "\n",
    "#Union\n",
    "union = set(list1).union(list2)\n",
    "print(bcolors.OKBLUE + \"Union of X and Y:\" + bcolors.ENDC, union)\n",
    "\n",
    "\n",
    "#Intersection\n",
    "intersec = set(list1).intersection(list2)\n",
    "print(bcolors.OKBLUE + \"Intersection of X and Y:\" + bcolors.ENDC, intersec)\n",
    "\n",
    "\n",
    "#Difference\n",
    "\n",
    "difference1 = set(list1).difference(list2)\n",
    "print(bcolors.OKBLUE + \"X to Y difference:\" + bcolors.ENDC, difference1)\n",
    "\n",
    "difference2 = set(list2).difference(list1)\n",
    "print(bcolors.OKBLUE + \"Y to X difference:\" + bcolors.ENDC, difference2)\n",
    "\n",
    "\n",
    "#Check if \"se\" is included in the bigrams X and Y\n",
    "\n",
    "includedInX = \"se\" in list1\n",
    "print(bcolors.OKBLUE + \"Is \\\"se\\\" included in X:\" + bcolors.ENDC, includedInX)\n",
    "\n",
    "includedInY = \"se\" in list2\n",
    "print(bcolors.OKBLUE + \"Is \\\"se\\\" included in Y:\" + bcolors.ENDC, includedInY)\n",
    "\n",
    "\n",
    "\n",
    "\n",
    "\n"
   ]
  },
  {
   "cell_type": "markdown",
   "metadata": {},
   "source": [
    "### 07. Template-based sentence generation\n",
    "Implement a function that receives arguments, `x`, `y`, and `z` and returns a string \"{y} is {z} at {x}\", where \"{x}\", \"{y}\", and \"{z}\" denote the values of `x`, `y`, and `z`, respectively. In addition, confirm the return string by giving the arguments `x=12`, `y=\"temprature\"`, and `z=22.4`.\n"
   ]
  },
  {
   "cell_type": "code",
   "execution_count": 115,
   "metadata": {},
   "outputs": [
    {
     "name": "stdout",
     "output_type": "stream",
     "text": [
      "Temprature is 22.4 at 12.\n"
     ]
    }
   ],
   "source": [
    "#Change the order of a sentence\n",
    "\n",
    "def strOrder(x, y, z):\n",
    "    return f'{y} is {z} at {x}.'.capitalize()\n",
    "\n",
    "#Test Scenario\n",
    "x=12\n",
    "y=\"temprature\"\n",
    "z=22.4\n",
    "\n",
    "print(strOrder(x,y,z))\n",
    "\n",
    "\n",
    "\n",
    "\n"
   ]
  },
  {
   "cell_type": "code",
   "execution_count": null,
   "metadata": {},
   "outputs": [],
   "source": []
  }
 ],
 "metadata": {
  "kernelspec": {
   "display_name": "Python 3",
   "language": "python",
   "name": "python3"
  },
  "language_info": {
   "codemirror_mode": {
    "name": "ipython",
    "version": 3
   },
   "file_extension": ".py",
   "mimetype": "text/x-python",
   "name": "python",
   "nbconvert_exporter": "python",
   "pygments_lexer": "ipython3",
   "version": "3.6.4"
  }
 },
 "nbformat": 4,
 "nbformat_minor": 2
}
