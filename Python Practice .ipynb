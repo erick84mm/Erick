{
 "cells": [
  {
   "cell_type": "markdown",
   "metadata": {},
   "source": [
    "00. Reversed string\n",
    "Obtain the string that arranges letters of the string \"stressed\" in reverse order (tail to head)."
   ]
  },
  {
   "cell_type": "code",
   "execution_count": 23,
   "metadata": {},
   "outputs": [
    {
     "name": "stdout",
     "output_type": "stream",
     "text": [
      "desserts\n",
      "desserts\n",
      "desserts\n"
     ]
    },
    {
     "data": {
      "text/plain": [
       "'desserts'"
      ]
     },
     "execution_count": 23,
     "metadata": {},
     "output_type": "execute_result"
    }
   ],
   "source": [
    "st = \"stressed\"\n",
    "st_ans = \"\"\n",
    "\n",
    "\n",
    "##Converting to list and reversing\n",
    "lis = list(st)\n",
    "lis.reverse()\n",
    "print(''.join(lis))\n",
    "\n",
    "##Converting to list and reversing inline\n",
    "lis = list(st)\n",
    "print(''.join(lis[::-1]))\n",
    "\n",
    "\n",
    "## character by character print \n",
    "for c in st[::-1]:\n",
    "    st_ans += c\n",
    "\n",
    "print(st_ans)\n",
    "\n",
    "\n",
    "## To output the array\n",
    "[x for x in reversed(st)]\n",
    "\n",
    "\n",
    "## to output the result in string form\n",
    "''.join([x for x in reversed(st)])"
   ]
  },
  {
   "cell_type": "markdown",
   "metadata": {},
   "source": [
    "01. \"schooled\"\n",
    "Obtain the string that concatenates the 1st, 3rd, 5th, and 7th letters in the string \"schooled\"."
   ]
  },
  {
   "cell_type": "code",
   "execution_count": 29,
   "metadata": {},
   "outputs": [
    {
     "name": "stdout",
     "output_type": "stream",
     "text": [
      "e\n",
      "shoe0 a\n",
      "1 b\n",
      "2 c\n"
     ]
    }
   ],
   "source": [
    "\"schooled\" [::2]\n",
    "\n",
    "\n",
    "## For for getting the word one by one (not good way)\n",
    "word = \"schooled\"\n",
    "new_word = \"\"\n",
    "\n",
    "for i in range(len(word)//2):\n",
    "    new_word = new_word = word[2*i]\n",
    "    \n",
    "print(new_word)\n",
    "\n",
    "\n",
    "## For for skipping the chars that we don't want to print\n",
    "for index, char in enumerate(word): \n",
    "    if not index % 2:\n",
    "        print(char, end =\"\")\n",
    "\n",
    "## enumerate makes the list in a tuple of (index, element)\n",
    "for i, char in enumerate([\"a\",\"b\",\"c\"]):\n",
    "    print(i, char)\n",
    "\n",
    "\n",
    "\n",
    "\n",
    "\n",
    "\n",
    "\n"
   ]
  },
  {
   "cell_type": "code",
   "execution_count": 25,
   "metadata": {},
   "outputs": [],
   "source": [
    "## 02. \"shoe\" + \"cold\" = \"schooled\"\n",
    "##Obtain the string \"schooled\" by concatenating the letters in \"shoe\" and \"cold\" one after the other from head to tail."
   ]
  },
  {
   "cell_type": "code",
   "execution_count": 26,
   "metadata": {},
   "outputs": [],
   "source": [
    "txt1 = \"shoe\"\n",
    "txt2 = \"cold\"\n",
    "\n"
   ]
  },
  {
   "cell_type": "code",
   "execution_count": 27,
   "metadata": {},
   "outputs": [],
   "source": [
    "## 03. Pi\n",
    "##Split the sentence \"Now I need a drink, alcoholic of course, after the heavy lectures involving quantum mechanics.\" into words, and create a list whose element presents the number of alphabetical letters in the corresponding word."
   ]
  },
  {
   "cell_type": "code",
   "execution_count": null,
   "metadata": {},
   "outputs": [],
   "source": []
  },
  {
   "cell_type": "code",
   "execution_count": 12,
   "metadata": {},
   "outputs": [],
   "source": [
    "## 04. Atomic symbols\n",
    "## Split the sentence \"Hi He Lied Because Boron Could Not Oxidize Fluorine. New Nations Might Also Sign Peace Security Clause. Arthur King Can.\" into words, and extract the first letter from the 1st, 5th, 6th, 7th, 8th, 9th, 15th, 16th, 19th words and the first two letters from the other words. Create an associative array (dictionary object or mapping object) that maps from the extracted string to the position (offset in the sentence) of the corresponding word.\n"
   ]
  },
  {
   "cell_type": "code",
   "execution_count": null,
   "metadata": {},
   "outputs": [],
   "source": []
  },
  {
   "cell_type": "code",
   "execution_count": 13,
   "metadata": {},
   "outputs": [],
   "source": [
    "## 05. n-gram\n",
    "## Implement a function that obtains n-grams from a given sequence object (e.g., string and list). Use this function to obtain word bi-grams and letter bi-grams from the sentence \"I am an NLPer\""
   ]
  },
  {
   "cell_type": "code",
   "execution_count": null,
   "metadata": {},
   "outputs": [],
   "source": []
  },
  {
   "cell_type": "code",
   "execution_count": 14,
   "metadata": {},
   "outputs": [],
   "source": [
    "## 06. Set\n",
    "## Let the sets of letter bi-grams from the words \"paraparaparadise\" and \"paragraph\" $X$ and $Y$, respectively.\n",
    "## Obtain the union, intersection, difference of the two sets.\n",
    "## In addition, check whether the bigram \"se\" is included in the sets $X$ and $Y$\n"
   ]
  },
  {
   "cell_type": "code",
   "execution_count": null,
   "metadata": {},
   "outputs": [],
   "source": []
  },
  {
   "cell_type": "code",
   "execution_count": null,
   "metadata": {},
   "outputs": [],
   "source": [
    "## 07. Template-based sentence generation\n",
    "##Implement a function that receives arguments, `x`, `y`, and `z` and returns a string \"{y} is {z} at {x}\", where \"{x}\", \"{y}\", and \"{z}\" denote the values of `x`, `y`, and `z`, respectively. In addition, confirm the return string by giving the arguments `x=12`, `y=\"temprature\"`, and `z=22.4`.\n"
   ]
  }
 ],
 "metadata": {
  "kernelspec": {
   "display_name": "Python 3",
   "language": "python",
   "name": "python3"
  },
  "language_info": {
   "codemirror_mode": {
    "name": "ipython",
    "version": 3
   },
   "file_extension": ".py",
   "mimetype": "text/x-python",
   "name": "python",
   "nbconvert_exporter": "python",
   "pygments_lexer": "ipython3",
   "version": "3.6.4"
  }
 },
 "nbformat": 4,
 "nbformat_minor": 2
}
