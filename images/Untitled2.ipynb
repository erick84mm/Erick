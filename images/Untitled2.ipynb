{
 "cells": [
  {
   "cell_type": "code",
   "execution_count": 21,
   "metadata": {},
   "outputs": [
    {
     "name": "stdout",
     "output_type": "stream",
     "text": [
      "[1, 1]\n"
     ]
    }
   ],
   "source": [
    "def base_convert(i, b):\n",
    "    result = []\n",
    "    while i > 0:\n",
    "            result.insert(0, i % b)\n",
    "            i = i // b\n",
    "    return result\n",
    "\n",
    "print(base_convert(5,4))"
   ]
  },
  {
   "cell_type": "code",
   "execution_count": 3,
   "metadata": {},
   "outputs": [
    {
     "ename": "NameError",
     "evalue": "name 'l' is not defined",
     "output_type": "error",
     "traceback": [
      "\u001b[0;31m---------------------------------------------------------------------------\u001b[0m",
      "\u001b[0;31mNameError\u001b[0m                                 Traceback (most recent call last)",
      "\u001b[0;32m<ipython-input-3-c1e950746262>\u001b[0m in \u001b[0;36m<module>\u001b[0;34m()\u001b[0m\n\u001b[1;32m      1\u001b[0m \u001b[0;32mfrom\u001b[0m \u001b[0mitertools\u001b[0m \u001b[0;32mimport\u001b[0m \u001b[0mcombinations\u001b[0m\u001b[0;34m\u001b[0m\u001b[0m\n\u001b[0;32m----> 2\u001b[0;31m \u001b[0mprint\u001b[0m\u001b[0;34m(\u001b[0m\u001b[0mlist\u001b[0m\u001b[0;34m(\u001b[0m\u001b[0mcombinations\u001b[0m\u001b[0;34m(\u001b[0m\u001b[0ml\u001b[0m\u001b[0;34m,\u001b[0m \u001b[0;36m1\u001b[0m\u001b[0;34m)\u001b[0m\u001b[0;34m)\u001b[0m\u001b[0;34m)\u001b[0m\u001b[0;34m\u001b[0m\u001b[0m\n\u001b[0m",
      "\u001b[0;31mNameError\u001b[0m: name 'l' is not defined"
     ]
    }
   ],
   "source": []
  },
  {
   "cell_type": "code",
   "execution_count": 55,
   "metadata": {},
   "outputs": [],
   "source": [
    "def createExamples(n):\n",
    "    l = [\"A\", \"B\", \"C\", \"D\"]\n",
    "    res = []\n",
    "    if(n == 0):\n",
    "        return \"A\"\n",
    "    while n > 0:\n",
    "        idx = n % 4\n",
    "        res.insert(0, l[idx])\n",
    "        n = n//4 \n",
    "            \n",
    "    return \"\".join(res)\n",
    "        \n",
    "    "
   ]
  },
  {
   "cell_type": "code",
   "execution_count": 56,
   "metadata": {},
   "outputs": [
    {
     "name": "stdout",
     "output_type": "stream",
     "text": [
      "0 A\n",
      "1 B\n",
      "2 C\n",
      "3 D\n",
      "4 BA\n",
      "5 BB\n",
      "6 BC\n",
      "7 BD\n",
      "8 CA\n",
      "9 CB\n",
      "10 CC\n",
      "11 CD\n",
      "12 DA\n",
      "13 DB\n",
      "14 DC\n",
      "15 DD\n",
      "16 BAA\n",
      "17 BAB\n",
      "18 BAC\n",
      "19 BAD\n",
      "20 BBA\n",
      "21 BBB\n",
      "22 BBC\n",
      "23 BBD\n",
      "24 BCA\n",
      "25 BCB\n",
      "26 BCC\n",
      "27 BCD\n",
      "28 BDA\n",
      "29 BDB\n",
      "30 BDC\n",
      "31 BDD\n",
      "32 CAA\n",
      "33 CAB\n",
      "34 CAC\n",
      "35 CAD\n",
      "36 CBA\n",
      "37 CBB\n",
      "38 CBC\n",
      "39 CBD\n",
      "40 CCA\n",
      "41 CCB\n",
      "42 CCC\n",
      "43 CCD\n",
      "44 CDA\n",
      "45 CDB\n",
      "46 CDC\n",
      "47 CDD\n",
      "48 DAA\n",
      "49 DAB\n",
      "50 DAC\n",
      "51 DAD\n",
      "52 DBA\n",
      "53 DBB\n",
      "54 DBC\n",
      "55 DBD\n",
      "56 DCA\n",
      "57 DCB\n",
      "58 DCC\n",
      "59 DCD\n",
      "60 DDA\n",
      "61 DDB\n",
      "62 DDC\n",
      "63 DDD\n",
      "64 BAAA\n",
      "65 BAAB\n",
      "66 BAAC\n",
      "67 BAAD\n",
      "68 BABA\n",
      "69 BABB\n",
      "70 BABC\n",
      "71 BABD\n",
      "72 BACA\n",
      "73 BACB\n",
      "74 BACC\n",
      "75 BACD\n",
      "76 BADA\n",
      "77 BADB\n",
      "78 BADC\n",
      "79 BADD\n",
      "80 BBAA\n",
      "81 BBAB\n",
      "82 BBAC\n",
      "83 BBAD\n",
      "84 BBBA\n",
      "85 BBBB\n",
      "86 BBBC\n",
      "87 BBBD\n",
      "88 BBCA\n",
      "89 BBCB\n",
      "90 BBCC\n",
      "91 BBCD\n",
      "92 BBDA\n",
      "93 BBDB\n",
      "94 BBDC\n",
      "95 BBDD\n",
      "96 BCAA\n",
      "97 BCAB\n",
      "98 BCAC\n",
      "99 BCAD\n"
     ]
    }
   ],
   "source": [
    "for i in range(100):\n",
    "    print(i, createExamples(i))"
   ]
  },
  {
   "cell_type": "code",
   "execution_count": 1,
   "metadata": {},
   "outputs": [
    {
     "name": "stdout",
     "output_type": "stream",
     "text": [
      "[('A', 'A'), ('A', 'B'), ('A', 'C'), ('A', 'D'), ('B', 'A'), ('B', 'B'), ('B', 'C'), ('B', 'D'), ('C', 'A'), ('C', 'B'), ('C', 'C'), ('C', 'D'), ('D', 'A'), ('D', 'B'), ('D', 'C'), ('D', 'D')]\n",
      "b'0'\n"
     ]
    }
   ],
   "source": [
    "import urllib.request\n",
    "from itertools import product \n",
    "l = [\"A\", \"B\", \"C\", \"D\"]\n",
    "\n",
    "print(list(product(l,repeat=2)))\n",
    "part0 = \"https://runner.team-lab.com/q?str=\"\n",
    "part1 = \"&token=npfEF2T59ITaHFAU7QhGBZbTGSlXrVEG\"\n",
    "contents = urllib.request.urlopen(part0 + \"E\"+ part1).read()\n",
    "print(contents)"
   ]
  },
  {
   "cell_type": "code",
   "execution_count": 2,
   "metadata": {},
   "outputs": [],
   "source": [
    "scores = {}\n",
    "missing=[]"
   ]
  },
  {
   "cell_type": "code",
   "execution_count": 5,
   "metadata": {},
   "outputs": [],
   "source": [
    "with open(\"data2.txt\", \"w+\") as f:\n",
    "    for key, value in scores.items():\n",
    "        f.write(\"{},{} \\n\".format(key,int(value)))"
   ]
  },
  {
   "cell_type": "code",
   "execution_count": 3,
   "metadata": {},
   "outputs": [
    {
     "name": "stderr",
     "output_type": "stream",
     "text": [
      "100%|██████████| 1024/1024 [01:14<00:00, 13.82it/s]\n",
      " 96%|█████████▋| 3947/4096 [05:20<00:14, 10.40it/s]"
     ]
    },
    {
     "ename": "KeyboardInterrupt",
     "evalue": "",
     "output_type": "error",
     "traceback": [
      "\u001b[0;31m---------------------------------------------------------------------------\u001b[0m",
      "\u001b[0;31mKeyboardInterrupt\u001b[0m                         Traceback (most recent call last)",
      "\u001b[0;32m<ipython-input-3-eadb310d8995>\u001b[0m in \u001b[0;36m<module>\u001b[0;34m()\u001b[0m\n\u001b[1;32m      9\u001b[0m     \u001b[0mwords\u001b[0m \u001b[0;34m=\u001b[0m \u001b[0;34m[\u001b[0m\u001b[0;34m\"\"\u001b[0m\u001b[0;34m.\u001b[0m\u001b[0mjoin\u001b[0m\u001b[0;34m(\u001b[0m\u001b[0mt\u001b[0m\u001b[0;34m)\u001b[0m \u001b[0;32mfor\u001b[0m \u001b[0mt\u001b[0m \u001b[0;32min\u001b[0m \u001b[0mlist\u001b[0m\u001b[0;34m(\u001b[0m\u001b[0mproduct\u001b[0m\u001b[0;34m(\u001b[0m\u001b[0ml\u001b[0m\u001b[0;34m,\u001b[0m\u001b[0mrepeat\u001b[0m\u001b[0;34m=\u001b[0m\u001b[0mi\u001b[0m\u001b[0;34m)\u001b[0m\u001b[0;34m)\u001b[0m\u001b[0;34m]\u001b[0m\u001b[0;34m\u001b[0m\u001b[0m\n\u001b[1;32m     10\u001b[0m \u001b[0;34m\u001b[0m\u001b[0m\n\u001b[0;32m---> 11\u001b[0;31m     \u001b[0;32mfor\u001b[0m \u001b[0mword\u001b[0m \u001b[0;32min\u001b[0m \u001b[0mtqdm\u001b[0m\u001b[0;34m(\u001b[0m\u001b[0mwords\u001b[0m\u001b[0;34m)\u001b[0m\u001b[0;34m:\u001b[0m\u001b[0;34m\u001b[0m\u001b[0m\n\u001b[0m\u001b[1;32m     12\u001b[0m         \u001b[0;32mtry\u001b[0m\u001b[0;34m:\u001b[0m\u001b[0;34m\u001b[0m\u001b[0m\n\u001b[1;32m     13\u001b[0m             \u001b[0;32mif\u001b[0m\u001b[0;34m(\u001b[0m\u001b[0mword\u001b[0m \u001b[0;32mnot\u001b[0m \u001b[0;32min\u001b[0m \u001b[0mscores\u001b[0m\u001b[0;34m)\u001b[0m\u001b[0;34m:\u001b[0m\u001b[0;34m\u001b[0m\u001b[0m\n",
      "\u001b[0;32m/anaconda3/lib/python3.6/site-packages/tqdm/_tqdm.py\u001b[0m in \u001b[0;36m__iter__\u001b[0;34m(self)\u001b[0m\n\u001b[1;32m    576\u001b[0m                              else ncols),\n\u001b[1;32m    577\u001b[0m                             \u001b[0mself\u001b[0m\u001b[0;34m.\u001b[0m\u001b[0mdesc\u001b[0m\u001b[0;34m,\u001b[0m \u001b[0mascii\u001b[0m\u001b[0;34m,\u001b[0m \u001b[0munit\u001b[0m\u001b[0;34m,\u001b[0m \u001b[0munit_scale\u001b[0m\u001b[0;34m,\u001b[0m\u001b[0;34m\u001b[0m\u001b[0m\n\u001b[0;32m--> 578\u001b[0;31m                             1 / avg_time if avg_time else None, bar_format))\n\u001b[0m\u001b[1;32m    579\u001b[0m \u001b[0;34m\u001b[0m\u001b[0m\n\u001b[1;32m    580\u001b[0m                         \u001b[0;32mif\u001b[0m \u001b[0mself\u001b[0m\u001b[0;34m.\u001b[0m\u001b[0mpos\u001b[0m\u001b[0;34m:\u001b[0m\u001b[0;34m\u001b[0m\u001b[0m\n",
      "\u001b[0;32m/anaconda3/lib/python3.6/site-packages/tqdm/_tqdm.py\u001b[0m in \u001b[0;36mformat_meter\u001b[0;34m(n, total, elapsed, ncols, prefix, ascii, unit, unit_scale, rate, bar_format)\u001b[0m\n\u001b[1;32m    156\u001b[0m \u001b[0;34m\u001b[0m\u001b[0m\n\u001b[1;32m    157\u001b[0m         \u001b[0mformat_interval\u001b[0m \u001b[0;34m=\u001b[0m \u001b[0mtqdm\u001b[0m\u001b[0;34m.\u001b[0m\u001b[0mformat_interval\u001b[0m\u001b[0;34m\u001b[0m\u001b[0m\n\u001b[0;32m--> 158\u001b[0;31m         \u001b[0melapsed_str\u001b[0m \u001b[0;34m=\u001b[0m \u001b[0mformat_interval\u001b[0m\u001b[0;34m(\u001b[0m\u001b[0melapsed\u001b[0m\u001b[0;34m)\u001b[0m\u001b[0;34m\u001b[0m\u001b[0m\n\u001b[0m\u001b[1;32m    159\u001b[0m \u001b[0;34m\u001b[0m\u001b[0m\n\u001b[1;32m    160\u001b[0m         \u001b[0;31m# if unspecified, attempt to use rate = average speed\u001b[0m\u001b[0;34m\u001b[0m\u001b[0;34m\u001b[0m\u001b[0m\n",
      "\u001b[0;32m/anaconda3/lib/python3.6/site-packages/tqdm/_tqdm.py\u001b[0m in \u001b[0;36mformat_interval\u001b[0;34m(t)\u001b[0m\n\u001b[1;32m     76\u001b[0m             \u001b[0;32mreturn\u001b[0m \u001b[0;34m'{0:d}:{1:02d}:{2:02d}'\u001b[0m\u001b[0;34m.\u001b[0m\u001b[0mformat\u001b[0m\u001b[0;34m(\u001b[0m\u001b[0mh\u001b[0m\u001b[0;34m,\u001b[0m \u001b[0mm\u001b[0m\u001b[0;34m,\u001b[0m \u001b[0ms\u001b[0m\u001b[0;34m)\u001b[0m\u001b[0;34m\u001b[0m\u001b[0m\n\u001b[1;32m     77\u001b[0m         \u001b[0;32melse\u001b[0m\u001b[0;34m:\u001b[0m\u001b[0;34m\u001b[0m\u001b[0m\n\u001b[0;32m---> 78\u001b[0;31m             \u001b[0;32mreturn\u001b[0m \u001b[0;34m'{0:02d}:{1:02d}'\u001b[0m\u001b[0;34m.\u001b[0m\u001b[0mformat\u001b[0m\u001b[0;34m(\u001b[0m\u001b[0mm\u001b[0m\u001b[0;34m,\u001b[0m \u001b[0ms\u001b[0m\u001b[0;34m)\u001b[0m\u001b[0;34m\u001b[0m\u001b[0m\n\u001b[0m\u001b[1;32m     79\u001b[0m \u001b[0;34m\u001b[0m\u001b[0m\n\u001b[1;32m     80\u001b[0m     \u001b[0;34m@\u001b[0m\u001b[0mstaticmethod\u001b[0m\u001b[0;34m\u001b[0m\u001b[0m\n",
      "\u001b[0;31mKeyboardInterrupt\u001b[0m: "
     ]
    }
   ],
   "source": [
    "import urllib.request\n",
    "from tqdm import tqdm\n",
    "\n",
    "l = [\"A\", \"B\", \"C\", \"D\"]\n",
    "part0 = \"https://runner.team-lab.com/q?str=\"\n",
    "part1 = \"&token=npfEF2T59ITaHFAU7QhGBZbTGSlXrVEG\"\n",
    "\n",
    "for i in range(5,9):\n",
    "    words = [\"\".join(t) for t in list(product(l,repeat=i))]\n",
    "    \n",
    "    for word in tqdm(words):\n",
    "        try:\n",
    "            if(word not in scores):\n",
    "                score = urllib.request.urlopen(part0 + word+ part1).read()\n",
    "                scores[word] = score\n",
    "        except:\n",
    "            missing.append(word)\n",
    "    \n",
    "        \n",
    "#print(missing)"
   ]
  },
  {
   "cell_type": "code",
   "execution_count": 4,
   "metadata": {},
   "outputs": [
    {
     "name": "stdout",
     "output_type": "stream",
     "text": [
      "{'AAAAA': b'7', 'AABAA': b'43', 'AABBD': b'39', 'AACBD': b'72', 'AADBB': b'33', 'ABABA': b'49', 'ABBBB': b'24', 'ABBDB': b'60', 'ABCDB': b'45', 'ABDDA': b'26', 'ACADA': b'42', 'ACBCD': b'37', 'ACCCC': b'24', 'ACDBC': b'27', 'ADABD': b'25', 'ADBCB': b'27', 'ADCCC': b'52', 'ADDBA': b'23', 'BAAAD': b'33', 'BAACB': b'34', 'BABCA': b'35', 'BABDD': b'39', 'BACDD': b'41', 'BBAAA': b'24', 'BBADD': b'31', 'BBBDC': b'51', 'BBCDC': b'29', 'BBDDB': b'36', 'BCADC': b'50', 'BCBDC': b'34', 'BCCDD': b'50', 'BDAAA': b'38', 'BDBAA': b'21', 'BDCAA': b'36', 'BDDAA': b'30', 'BDDDB': b'38', 'CAADD': b'29', 'CACAA': b'45', 'CADAA': b'40', 'CADDD': b'30', 'CBABD': b'50', 'CBBBD': b'33', 'CBCBD': b'58', 'CBDBD': b'32', 'CCABD': b'31', 'CCBBD': b'36', 'CCCCA': b'21', 'CCDCA': b'37', 'CDACA': b'27', 'CDBCA': b'25', 'CDCCA': b'22', 'CDDBD': b'30', 'DAABC': b'75', 'DABBD': b'30', 'DACBD': b'57', 'DADBD': b'24', 'DBAAD': b'24', 'DBBAC': b'48', 'DBCAC': b'26', 'DBDAC': b'37', 'DCAAB': b'42', 'DCBAB': b'37', 'DCCAB': b'28', 'DCDAA': b'44', 'DCDDB': b'31', 'DDADB': b'33', 'DDBCD': b'38', 'DDCCD': b'26', 'DDDBD': b'27', 'AAAABD': b'35', 'AAABBD': b'43', 'AAACBB': b'43', 'AAADBA': b'42', 'AAADDC': b'37', 'AABADA': b'44', 'AABBDA': b'54', 'AABCCD': b'61', 'AABDCC': b'45', 'AACABB': b'44', 'AACBBB': b'50', 'AACCBC': b'67', 'AACDBC': b'54', 'AADABC': b'45', 'AADBAC': b'43', 'AADCAC': b'67', 'AADDAB': b'35', 'ABAAAB': b'38', 'ABABAA': b'94', 'ABACAA': b'88', 'ABACDD': b'60', 'ABBAAA': b'68', 'ABBACD': b'50', 'ABBBCD': b'35', 'ABBCCD': b'57', 'ABBDCD': b'92', 'ABCADA': b'52', 'ABCBDB': b'50', 'ABCCDB': b'58', 'ABCDDC': b'67', 'ABDADB': b'58', 'ABDBDC': b'47', 'ABDCDC': b'44', 'ABDDDC': b'92', 'ACAADC': b'51', 'ACABDD': b'87', 'ACACDD': b'53', 'ACADDD': b'53', 'ACBADD': b'38', 'ACBBDD': b'55', 'ACBCDC': b'45', 'ACBDDC': b'73', 'ACCADC': b'48', 'ACCBDB': b'40', 'ACCCDA': b'51', 'ACCDCD': b'94', 'ACDACD': b'52', 'ACDBCD': b'38', 'ACDCCD': b'34', 'ACDDCC': b'40', 'ADAACD': b'70', 'ADABCD': b'38', 'ADACCC': b'38', 'ADADCA': b'63', 'ADADCB': b'56', 'ADBACB': b'39', 'ADBBCB': b'61', 'ADBCCA': b'29', 'ADBDCA': b'31', 'ADCABB': b'37', 'ADCBAB': b'53', 'ADCCAB': b'40', 'ADCDAB': b'70', 'ADDAAB': b'58', 'ADDBAA': b'30', 'ADDCAA': b'33', 'ADDDAA': b'54', 'ADDDDD': b'8', 'BAAABA': b'59', 'BAAADD': b'35', 'BAABDD': b'56', 'BAADAA': b'62', 'BAADBD': b'35', 'BABABC': b'43', 'BABBBC': b'33', 'BABCBC': b'43', 'BABDBD': b'47', 'BACAAD': b'86', 'BACBBA': b'62', 'BACCBA': b'40', 'BACDBA': b'34', 'BADAAC': b'60', 'BADBAD': b'25', 'BADCBA': b'36', 'BADDBA': b'26', 'BBAABA': b'52', 'BBABAA': b'85', 'BBACAA': b'80', 'BBACDD': b'52', 'BBADDC': b'39', 'BBBADC': b'82', 'BBBCAA': b'35', 'BBBCCC': b'50', 'BBBDAC': b'52', 'BBCAAA': b'28', 'BBCADC': b'58', 'BBCBCC': b'46', 'BBCBCD': b'68', 'BBCCCC': b'41', 'BBCDCA': b'31', 'BBDABB': b'45', 'BBDBAC': b'39', 'BBDBDD': b'44', 'BBDCDA': b'103', 'BBDDBB': b'55', 'BCAABA': b'36', 'BCABAC': b'73', 'BCABDD': b'50', 'BCACCD': b'70', 'BCADCB': b'73', 'BCBAAB': b'47', 'BCBABC': b'48', 'BCBBAB': b'77', 'BCBBCD': b'33', 'BCBCCC': b'44', 'BCBDCA': b'36', 'BCCACA': b'29', 'BCCBAB': b'49', 'BCCBCA': b'59', 'BCCCCA': b'35', 'BCCDBC': b'36', 'BCDABC': b'36', 'BCDBBB': b'56', 'BCDCBC': b'49', 'BCDCCB': b'43', 'BCDDCB': b'95', 'BDAACA': b'58', 'BDABCA': b'43', 'BDACBB': b'91', 'BDADBA': b'73', 'BDBABA': b'38', 'BDBBAD': b'64', 'BDBBBA': b'65', 'BDBCAA': b'49', 'BDBDAA': b'63', 'BDCAAA': b'38', 'BDCADA': b'56', 'BDCBCD': b'52', 'BDCCBC': b'39', 'BDCDBA': b'69', 'BDDAAC': b'79', 'BDDBAB': b'38', 'BDDBDD': b'43', 'BDDCDA': b'49', 'BDDDCD': b'67', 'CAAABD': b'40', 'CAABBC': b'47', 'CAACAC': b'33', 'CAADAB': b'50', 'CABAAA': b'39', 'CABADD': b'31', 'CABBDD': b'45', 'CABCDC': b'57', 'CABDAD': b'65', 'CACAAD': b'62', 'CACBAC': b'73', 'CACCAA': b'55', 'CACDAA': b'97', 'CADAAA': b'50', 'CADBAA': b'44', 'CADBDA': b'47', 'CADCCB': b'36', 'CADDCA': b'35', 'CBAABD': b'53', 'CBABBD': b'52', 'CBACBB': b'51', 'CBADBA': b'63', 'CBADDD': b'33', 'CBBABA': b'84', 'CBBBBA': b'57', 'CBBCBB': b'25', 'CBBDBC': b'43', 'CBCABB': b'41', 'CBCBBA': b'39', 'CBCCAA': b'58', 'CBCDAA': b'37', 'CBCDDD': b'28', 'CBDADC': b'66', 'CBDBBA': b'61', 'CBDCBA': b'44', 'CBDDBB': b'78', 'CCAABC': b'35', 'CCABBC': b'38', 'CCACBA': b'50', 'CCADAD': b'56', 'CCBAAC': b'45', 'CCBADC': b'46', 'CCBBDC': b'80', 'CCBCDD': b'41', 'CCBDCD': b'69', 'CCCACC': b'47', 'CCCBCB': b'38', 'CCCCBD': b'28', 'CCCDCA': b'41', 'CCDABD': b'52', 'CCDBCA': b'34', 'CCDCAD': b'44', 'CCDDAD': b'82', 'CDAAAB': b'49', 'CDABAC': b'56', 'CDACAC': b'31', 'CDADAB': b'61', 'CDBAAB': b'49', 'CDBBAA': b'59', 'CDBCAA': b'48', 'CDBDAB': b'40', 'CDCAAB': b'50', 'CDCBAB': b'69', 'CDCCAB': b'37', 'CDCDAA': b'49', 'CDCDDD': b'40', 'CDDADC': b'66', 'CDDBDB': b'40', 'CDDCDA': b'44', 'CDDDDA': b'63', 'DAAACD': b'55', 'DAABCC': b'84', 'DAACAA': b'53', 'DAADAB': b'62', 'DAADDC': b'51', 'DABADB': b'34', 'DABBDC': b'56', 'DABCDC': b'39', 'DABDDB': b'36', 'DACADA': b'44', 'DACBCD': b'78', 'DACCCB': b'66', 'DACDCC': b'42', 'DADACC': b'46', 'DADBCA': b'33', 'DADCCA': b'35', 'DADDBC': b'56', 'DADDDD': b'31', 'DBAADD': b'26', 'DBABDC': b'46', 'DBACDB': b'35', 'DBADBA': b'25', 'DBBABA': b'61', 'DBBBAD': b'88', 'DBBCAD': b'32', 'DBBDAD': b'59', 'DBCAAC': b'97', 'DBCBAC': b'33', 'DBCBBA': b'41', 'DBCBDD': b'36', 'DBCCDC': b'76', 'DBCDBD': b'47', 'DBDABB': b'35', 'DBDBAC': b'70', 'DBDCAA': b'46', 'DBDCCD': b'41', 'DBDDCA': b'31', 'DCAAAC': b'39', 'DCAACC': b'59', 'DCABBB': b'50', 'DCABCD': b'52', 'DCACAD': b'46', 'DCADAB': b'26', 'DCADDB': b'61', 'DCBACB': b'40', 'DCBBCA': b'71', 'DCBCAA': b'39', 'DCBCDB': b'53', 'DCBDBD': b'47', 'DCCAAD': b'38', 'DCCABB': b'35', 'DCCBAA': b'30', 'DCCBAC': b'34', 'DCCCAA': b'35', 'DCCCCC': b'11', 'DCCDBB': b'42', 'DCDAAB': b'95', 'DCDADB': b'62', 'DCDBBB': b'59', 'DCDCBA': b'58', 'DCDCBC': b'54', 'DCDDAA': b'44', 'DCDDDB': b'50', 'DDAACC': b'90', 'DDABBD': b'33', 'DDABCC': b'27', 'DDACBC': b'74', 'DDADAB': b'50', 'DDADCA': b'61', 'DDADCB': b'54', 'DDBAAD': b'38', 'DDBBAA': b'85', 'DDBBBB': b'61', 'DDBBBC': b'64', 'DDBCAB': b'45'}\n"
     ]
    }
   ],
   "source": [
    "print(scores)"
   ]
  },
  {
   "cell_type": "code",
   "execution_count": null,
   "metadata": {},
   "outputs": [],
   "source": [
    "print(len(scores))"
   ]
  },
  {
   "cell_type": "code",
   "execution_count": null,
   "metadata": {},
   "outputs": [],
   "source": [
    "import requests \n",
    "  \n",
    "# api-endpoint \n",
    "URL = \"http://maps.googleapis.com/maps/api/geocode/json\"\n",
    "  \n",
    "# location given here \n",
    "location = \"delhi technological university\"\n",
    "  \n",
    "# defining a params dict for the parameters to be sent to the API \n",
    "PARAMS = {'address':location} \n",
    "  \n",
    "# sending get request and saving the response as response object \n",
    "r = requests.get(url = URL, params = PARAMS) \n",
    "  \n",
    "# extracting data in json format \n",
    "data = r.json() \n",
    "  \n",
    "  \n",
    "# extracting latitude, longitude and formatted address  \n",
    "# of the first matching location \n",
    "latitude = data['results'][0]['geometry']['location']['lat'] \n",
    "longitude = data['results'][0]['geometry']['location']['lng'] \n",
    "formatted_address = data['results'][0]['formatted_address'] \n",
    "  \n",
    "# printing the output \n",
    "print(\"Latitude:%s\\nLongitude:%s\\nFormatted Address:%s\"\n",
    "      %(latitude, longitude,formatted_address)) "
   ]
  },
  {
   "cell_type": "code",
   "execution_count": 10,
   "metadata": {},
   "outputs": [
    {
     "data": {
      "text/plain": [
       "49"
      ]
     },
     "execution_count": 10,
     "metadata": {},
     "output_type": "execute_result"
    }
   ],
   "source": [
    "len(\"BBDCDBACBDBDDDAACCDCBACBBCACCADDBBABAABABDABCDDCB\")"
   ]
  },
  {
   "cell_type": "code",
   "execution_count": null,
   "metadata": {},
   "outputs": [],
   "source": []
  }
 ],
 "metadata": {
  "kernelspec": {
   "display_name": "Python 3",
   "language": "python",
   "name": "python3"
  },
  "language_info": {
   "codemirror_mode": {
    "name": "ipython",
    "version": 3
   },
   "file_extension": ".py",
   "mimetype": "text/x-python",
   "name": "python",
   "nbconvert_exporter": "python",
   "pygments_lexer": "ipython3",
   "version": "3.6.4"
  }
 },
 "nbformat": 4,
 "nbformat_minor": 2
}
